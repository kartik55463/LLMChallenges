{
 "cells": [
  {
   "cell_type": "code",
   "execution_count": null,
   "metadata": {},
   "outputs": [
    {
     "name": "stdout",
     "output_type": "stream",
     "text": [
      "Concatenation completed successfully!\n"
     ]
    }
   ],
   "source": [
    "import pandas as pd\n",
    "\n",
    "# File paths for input and output\n",
    "input_file_path = \"\"\n",
    "output_file_path = \"\"\n",
    "\n",
    "# Read the CSV file\n",
    "df = pd.read_csv(input_file_path)\n",
    "\n",
    "# Fill missing values in 'Category' and 'Tags' with an empty string to avoid NaN issues\n",
    "df['Category'] = df['Category'].fillna('')\n",
    "df['Tags'] = df['Tags'].fillna('')\n",
    "\n",
    "# Concatenate 'Title', 'Category', and 'Tags' into a new column 'Combined_Text'\n",
    "df['Combined_Text'] = df['Title'] + ' ' + df['Category'] + ' ' + df['Tags']\n",
    "\n",
    "# Save the updated DataFrame to a new CSV file\n",
    "df.to_csv(output_file_path, index=False)\n",
    "\n",
    "print(\"Concatenation completed successfully!\")\n"
   ]
  }
 ],
 "metadata": {
  "kernelspec": {
   "display_name": "base",
   "language": "python",
   "name": "python3"
  },
  "language_info": {
   "codemirror_mode": {
    "name": "ipython",
    "version": 3
   },
   "file_extension": ".py",
   "mimetype": "text/x-python",
   "name": "python",
   "nbconvert_exporter": "python",
   "pygments_lexer": "ipython3",
   "version": "3.11.7"
  }
 },
 "nbformat": 4,
 "nbformat_minor": 2
}
