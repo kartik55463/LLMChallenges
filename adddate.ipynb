{
 "cells": [
  {
   "cell_type": "code",
   "execution_count": 1,
   "metadata": {},
   "outputs": [
    {
     "name": "stdout",
     "output_type": "stream",
     "text": [
      "Published Time extraction completed successfully!\n"
     ]
    }
   ],
   "source": [
    "import pandas as pd\n",
    "import requests\n",
    "from bs4 import BeautifulSoup\n",
    "import re\n",
    "import time\n",
    "\n",
    "# Function to extract the published time from a given URL\n",
    "def extract_published_time(url):\n",
    "    try:\n",
    "        resp = requests.get(url)\n",
    "        resp.raise_for_status()  # Check for any request errors\n",
    "    except requests.exceptions.RequestException as e:\n",
    "        print(f\"Network request error: {e}\")\n",
    "        return \"Unknown\"\n",
    "\n",
    "    page_content = resp.text\n",
    "    soup = BeautifulSoup(page_content, 'html.parser')\n",
    "\n",
    "    # Extract the published time (usually found in a meta tag)\n",
    "    published_time_match = re.search(r'<meta property=\"article:published_time\" content=\"(\\d{4}-\\d{2}-\\d{2})', page_content)\n",
    "    published_time = published_time_match.group(1) if published_time_match else \"Unknown\"\n",
    "\n",
    "    return published_time\n",
    "\n",
    "# File paths for input and output\n",
    "input_file_path = \"/Users/kartikmittal/Desktop/LLM Challenges/all_posts_data_title.csv\"\n",
    "output_file_path = \"/Users/kartikmittal/Desktop/LLM Challenges/all_posts_data_with_published_time.csv\"\n",
    "\n",
    "# Read the CSV file (assuming the URLs are in the 'Post_Link' column)\n",
    "df = pd.read_csv(input_file_path)\n",
    "\n",
    "# Initialize a new column for Published Time\n",
    "df['Published Time'] = None\n",
    "\n",
    "# Extract the Published Time for each URL in the 'Post_Link' column\n",
    "for index, url in enumerate(df['Post_Link']):\n",
    "    published_time = extract_published_time(url)\n",
    "    \n",
    "    # Update the dataframe with the extracted published time\n",
    "    df.at[index, 'Published Time'] = published_time\n",
    "\n",
    "# Save the updated DataFrame with the new column to a new CSV file\n",
    "df.to_csv(output_file_path, index=False)\n",
    "\n",
    "print(\"Published Time extraction completed successfully!\")\n"
   ]
  }
 ],
 "metadata": {
  "kernelspec": {
   "display_name": "base",
   "language": "python",
   "name": "python3"
  },
  "language_info": {
   "codemirror_mode": {
    "name": "ipython",
    "version": 3
   },
   "file_extension": ".py",
   "mimetype": "text/x-python",
   "name": "python",
   "nbconvert_exporter": "python",
   "pygments_lexer": "ipython3",
   "version": "3.11.7"
  }
 },
 "nbformat": 4,
 "nbformat_minor": 2
}
