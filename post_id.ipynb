{
 "cells": [
  {
   "cell_type": "code",
   "execution_count": null,
   "metadata": {},
   "outputs": [
    {
     "name": "stdout",
     "output_type": "stream",
     "text": [
      "Post ID extraction completed successfully!\n"
     ]
    }
   ],
   "source": [
    "import pandas as pd\n",
    "\n",
    "# File paths for input and output\n",
    "input_file_path = \"\"\n",
    "output_file_path = \"\"\n",
    "\n",
    "# Read the CSV file\n",
    "df = pd.read_csv(input_file_path)\n",
    "\n",
    "# Extract the post ID from the Post_Link column using regex (finds the number at the end of the URL)\n",
    "df['Post_ID'] = df['Post_Link'].str.extract(r'/(\\d+)$')\n",
    "\n",
    "# Move the Post_ID column to the front of the DataFrame\n",
    "columns = ['Post_ID'] + [col for col in df.columns if col != 'Post_ID']\n",
    "df = df[columns]\n",
    "\n",
    "# Save the updated DataFrame to a new CSV file\n",
    "df.to_csv(output_file_path, index=False)\n",
    "\n",
    "print(\"Post ID extraction completed successfully!\")\n"
   ]
  }
 ],
 "metadata": {
  "kernelspec": {
   "display_name": "base",
   "language": "python",
   "name": "python3"
  },
  "language_info": {
   "codemirror_mode": {
    "name": "ipython",
    "version": 3
   },
   "file_extension": ".py",
   "mimetype": "text/x-python",
   "name": "python",
   "nbconvert_exporter": "python",
   "pygments_lexer": "ipython3",
   "version": "3.11.7"
  }
 },
 "nbformat": 4,
 "nbformat_minor": 2
}
